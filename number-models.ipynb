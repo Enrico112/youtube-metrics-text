{
 "cells": [
  {
   "cell_type": "markdown",
   "id": "f79c6991",
   "metadata": {},
   "source": [
    "# Predicting Youtube Video Metrics from Numerical Data"
   ]
  },
  {
   "cell_type": "markdown",
   "id": "3115011e",
   "metadata": {},
   "source": [
    "### Importing libraries"
   ]
  },
  {
   "cell_type": "code",
   "execution_count": 3,
   "id": "f9b78ec5",
   "metadata": {},
   "outputs": [],
   "source": [
    "import pandas as pd\n",
    "import numpy as np\n",
    "from sklearn import linear_model, metrics, tree\n",
    "from sklearn.model_selection import train_test_split\n",
    "import string "
   ]
  },
  {
   "cell_type": "markdown",
   "id": "6e865907",
   "metadata": {},
   "source": [
    "### Loading dataset"
   ]
  },
  {
   "cell_type": "code",
   "execution_count": 27,
   "id": "a68c7fe1",
   "metadata": {
    "scrolled": true
   },
   "outputs": [
    {
     "data": {
      "text/html": [
       "<div>\n",
       "<style scoped>\n",
       "    .dataframe tbody tr th:only-of-type {\n",
       "        vertical-align: middle;\n",
       "    }\n",
       "\n",
       "    .dataframe tbody tr th {\n",
       "        vertical-align: top;\n",
       "    }\n",
       "\n",
       "    .dataframe thead th {\n",
       "        text-align: right;\n",
       "    }\n",
       "</style>\n",
       "<table border=\"1\" class=\"dataframe\">\n",
       "  <thead>\n",
       "    <tr style=\"text-align: right;\">\n",
       "      <th></th>\n",
       "      <th>id</th>\n",
       "      <th>title</th>\n",
       "      <th>date</th>\n",
       "      <th>keyword</th>\n",
       "      <th>views</th>\n",
       "      <th>likes</th>\n",
       "      <th>comments</th>\n",
       "      <th>comment</th>\n",
       "      <th>mean_comment_likes</th>\n",
       "      <th>mean_comment_sentiment</th>\n",
       "      <th>likes_per_view</th>\n",
       "      <th>comments_per_view</th>\n",
       "      <th>views_above_mean</th>\n",
       "      <th>likes_above_mean</th>\n",
       "      <th>comments_above_mean</th>\n",
       "      <th>days_old</th>\n",
       "      <th>unicode_title</th>\n",
       "      <th>unicode_comment</th>\n",
       "    </tr>\n",
       "  </thead>\n",
       "  <tbody>\n",
       "    <tr>\n",
       "      <th>0</th>\n",
       "      <td>wAZZ-UWGVHI</td>\n",
       "      <td>Apple Pay Is Killing the Physical Wallet After...</td>\n",
       "      <td>2022-08-23</td>\n",
       "      <td>tech</td>\n",
       "      <td>135612.0</td>\n",
       "      <td>3407.0</td>\n",
       "      <td>672.0</td>\n",
       "      <td>Let's not forget that Apple Pay in 2014 requir...</td>\n",
       "      <td>39.1</td>\n",
       "      <td>1.2</td>\n",
       "      <td>0.025123</td>\n",
       "      <td>0.004955</td>\n",
       "      <td>False</td>\n",
       "      <td>False</td>\n",
       "      <td>False</td>\n",
       "      <td>1</td>\n",
       "      <td>Apple Pay Is Killing the Physical Wallet After...</td>\n",
       "      <td>Let's not forget that Apple Pay in 2014 requir...</td>\n",
       "    </tr>\n",
       "    <tr>\n",
       "      <th>1</th>\n",
       "      <td>b3x28s61q3c</td>\n",
       "      <td>The most EXPENSIVE thing I own.</td>\n",
       "      <td>2022-08-24</td>\n",
       "      <td>tech</td>\n",
       "      <td>1758063.0</td>\n",
       "      <td>76779.0</td>\n",
       "      <td>4306.0</td>\n",
       "      <td>Wow, you really went to town on the PSU test r...</td>\n",
       "      <td>598.2</td>\n",
       "      <td>1.8</td>\n",
       "      <td>0.043672</td>\n",
       "      <td>0.002449</td>\n",
       "      <td>False</td>\n",
       "      <td>False</td>\n",
       "      <td>False</td>\n",
       "      <td>0</td>\n",
       "      <td>The most EXPENSIVE thing I own.</td>\n",
       "      <td>Wow, you really went to town on the PSU test r...</td>\n",
       "    </tr>\n",
       "    <tr>\n",
       "      <th>2</th>\n",
       "      <td>4mgePWWCAmA</td>\n",
       "      <td>My New House Gaming Setup is SICK!</td>\n",
       "      <td>2022-08-23</td>\n",
       "      <td>tech</td>\n",
       "      <td>1564007.0</td>\n",
       "      <td>63825.0</td>\n",
       "      <td>3338.0</td>\n",
       "      <td>Linus!!! Just turn the key lights  180 and bou...</td>\n",
       "      <td>626.2</td>\n",
       "      <td>1.9</td>\n",
       "      <td>0.040809</td>\n",
       "      <td>0.002134</td>\n",
       "      <td>False</td>\n",
       "      <td>False</td>\n",
       "      <td>False</td>\n",
       "      <td>1</td>\n",
       "      <td>My New House Gaming Setup is SICK!</td>\n",
       "      <td>Linus!!! Just turn the key lights  180 and bou...</td>\n",
       "    </tr>\n",
       "    <tr>\n",
       "      <th>3</th>\n",
       "      <td>kXiYSI7H2b0</td>\n",
       "      <td>Petrol Vs Liquid Nitrogen | Freezing Experimen...</td>\n",
       "      <td>2022-08-23</td>\n",
       "      <td>tech</td>\n",
       "      <td>922918.0</td>\n",
       "      <td>71566.0</td>\n",
       "      <td>1426.0</td>\n",
       "      <td>Unstoppable experiments with liquid nitrogen 🎉...</td>\n",
       "      <td>528.8</td>\n",
       "      <td>1.6</td>\n",
       "      <td>0.077543</td>\n",
       "      <td>0.001545</td>\n",
       "      <td>False</td>\n",
       "      <td>False</td>\n",
       "      <td>False</td>\n",
       "      <td>1</td>\n",
       "      <td>Petrol Vs Liquid Nitrogen | Freezing Experimen...</td>\n",
       "      <td>Unstoppable experiments with liquid nitrogen 🎉...</td>\n",
       "    </tr>\n",
       "    <tr>\n",
       "      <th>4</th>\n",
       "      <td>ErMwWXQxHp0</td>\n",
       "      <td>Best Back to School Tech 2022!</td>\n",
       "      <td>2022-08-08</td>\n",
       "      <td>tech</td>\n",
       "      <td>1855644.0</td>\n",
       "      <td>96513.0</td>\n",
       "      <td>5155.0</td>\n",
       "      <td>Guys, a quick note that you do NOT need all th...</td>\n",
       "      <td>2721.7</td>\n",
       "      <td>1.6</td>\n",
       "      <td>0.052011</td>\n",
       "      <td>0.002778</td>\n",
       "      <td>False</td>\n",
       "      <td>False</td>\n",
       "      <td>False</td>\n",
       "      <td>16</td>\n",
       "      <td>Best Back to School Tech 2022!</td>\n",
       "      <td>Guys, a quick note that you do NOT need all th...</td>\n",
       "    </tr>\n",
       "  </tbody>\n",
       "</table>\n",
       "</div>"
      ],
      "text/plain": [
       "            id                                              title        date  \\\n",
       "0  wAZZ-UWGVHI  Apple Pay Is Killing the Physical Wallet After...  2022-08-23   \n",
       "1  b3x28s61q3c                    The most EXPENSIVE thing I own.  2022-08-24   \n",
       "2  4mgePWWCAmA                 My New House Gaming Setup is SICK!  2022-08-23   \n",
       "3  kXiYSI7H2b0  Petrol Vs Liquid Nitrogen | Freezing Experimen...  2022-08-23   \n",
       "4  ErMwWXQxHp0                     Best Back to School Tech 2022!  2022-08-08   \n",
       "\n",
       "  keyword      views    likes  comments  \\\n",
       "0    tech   135612.0   3407.0     672.0   \n",
       "1    tech  1758063.0  76779.0    4306.0   \n",
       "2    tech  1564007.0  63825.0    3338.0   \n",
       "3    tech   922918.0  71566.0    1426.0   \n",
       "4    tech  1855644.0  96513.0    5155.0   \n",
       "\n",
       "                                             comment  mean_comment_likes  \\\n",
       "0  Let's not forget that Apple Pay in 2014 requir...                39.1   \n",
       "1  Wow, you really went to town on the PSU test r...               598.2   \n",
       "2  Linus!!! Just turn the key lights  180 and bou...               626.2   \n",
       "3  Unstoppable experiments with liquid nitrogen 🎉...               528.8   \n",
       "4  Guys, a quick note that you do NOT need all th...              2721.7   \n",
       "\n",
       "   mean_comment_sentiment  likes_per_view  comments_per_view  \\\n",
       "0                     1.2        0.025123           0.004955   \n",
       "1                     1.8        0.043672           0.002449   \n",
       "2                     1.9        0.040809           0.002134   \n",
       "3                     1.6        0.077543           0.001545   \n",
       "4                     1.6        0.052011           0.002778   \n",
       "\n",
       "   views_above_mean  likes_above_mean  comments_above_mean  days_old  \\\n",
       "0             False             False                False         1   \n",
       "1             False             False                False         0   \n",
       "2             False             False                False         1   \n",
       "3             False             False                False         1   \n",
       "4             False             False                False        16   \n",
       "\n",
       "                                       unicode_title  \\\n",
       "0  Apple Pay Is Killing the Physical Wallet After...   \n",
       "1                    The most EXPENSIVE thing I own.   \n",
       "2                 My New House Gaming Setup is SICK!   \n",
       "3  Petrol Vs Liquid Nitrogen | Freezing Experimen...   \n",
       "4                     Best Back to School Tech 2022!   \n",
       "\n",
       "                                     unicode_comment  \n",
       "0  Let's not forget that Apple Pay in 2014 requir...  \n",
       "1  Wow, you really went to town on the PSU test r...  \n",
       "2  Linus!!! Just turn the key lights  180 and bou...  \n",
       "3  Unstoppable experiments with liquid nitrogen 🎉...  \n",
       "4  Guys, a quick note that you do NOT need all th...  "
      ]
     },
     "execution_count": 27,
     "metadata": {},
     "output_type": "execute_result"
    }
   ],
   "source": [
    "vid = pd.read_csv('./videos-with-comments-aggr.csv',  index_col=0)\n",
    "vid.head()"
   ]
  },
  {
   "cell_type": "code",
   "execution_count": 26,
   "id": "de8a5122",
   "metadata": {},
   "outputs": [
    {
     "data": {
      "text/html": [
       "<div>\n",
       "<style scoped>\n",
       "    .dataframe tbody tr th:only-of-type {\n",
       "        vertical-align: middle;\n",
       "    }\n",
       "\n",
       "    .dataframe tbody tr th {\n",
       "        vertical-align: top;\n",
       "    }\n",
       "\n",
       "    .dataframe thead th {\n",
       "        text-align: right;\n",
       "    }\n",
       "</style>\n",
       "<table border=\"1\" class=\"dataframe\">\n",
       "  <thead>\n",
       "    <tr style=\"text-align: right;\">\n",
       "      <th></th>\n",
       "      <th>id</th>\n",
       "      <th>title</th>\n",
       "      <th>date</th>\n",
       "      <th>keyword</th>\n",
       "      <th>views</th>\n",
       "      <th>likes</th>\n",
       "      <th>comments</th>\n",
       "      <th>comment</th>\n",
       "      <th>mean_comment_likes</th>\n",
       "      <th>mean_comment_sentiment</th>\n",
       "      <th>likes_per_view</th>\n",
       "      <th>comments_per_view</th>\n",
       "      <th>views_above_mean</th>\n",
       "      <th>likes_above_mean</th>\n",
       "      <th>comments_above_mean</th>\n",
       "      <th>days_old</th>\n",
       "    </tr>\n",
       "  </thead>\n",
       "  <tbody>\n",
       "    <tr>\n",
       "      <th>0</th>\n",
       "      <td>wAZZ-UWGVHI</td>\n",
       "      <td>Apple Pay Is Killing the Physical Wallet After...</td>\n",
       "      <td>2022-08-23</td>\n",
       "      <td>tech</td>\n",
       "      <td>0.000034</td>\n",
       "      <td>0.000207</td>\n",
       "      <td>0.000918</td>\n",
       "      <td>Let's not forget that Apple Pay in 2014 requir...</td>\n",
       "      <td>0.000225</td>\n",
       "      <td>0.60</td>\n",
       "      <td>0.115269</td>\n",
       "      <td>0.059800</td>\n",
       "      <td>False</td>\n",
       "      <td>False</td>\n",
       "      <td>False</td>\n",
       "      <td>0.000181</td>\n",
       "    </tr>\n",
       "    <tr>\n",
       "      <th>1</th>\n",
       "      <td>b3x28s61q3c</td>\n",
       "      <td>The most EXPENSIVE thing I own.</td>\n",
       "      <td>2022-08-24</td>\n",
       "      <td>tech</td>\n",
       "      <td>0.000436</td>\n",
       "      <td>0.004669</td>\n",
       "      <td>0.005877</td>\n",
       "      <td>Wow, you really went to town on the PSU test r...</td>\n",
       "      <td>0.003439</td>\n",
       "      <td>0.90</td>\n",
       "      <td>0.200102</td>\n",
       "      <td>0.029772</td>\n",
       "      <td>False</td>\n",
       "      <td>False</td>\n",
       "      <td>False</td>\n",
       "      <td>0.000000</td>\n",
       "    </tr>\n",
       "    <tr>\n",
       "      <th>2</th>\n",
       "      <td>4mgePWWCAmA</td>\n",
       "      <td>My New House Gaming Setup is SICK!</td>\n",
       "      <td>2022-08-23</td>\n",
       "      <td>tech</td>\n",
       "      <td>0.000388</td>\n",
       "      <td>0.003881</td>\n",
       "      <td>0.004556</td>\n",
       "      <td>Linus!!! Just turn the key lights  180 and bou...</td>\n",
       "      <td>0.003600</td>\n",
       "      <td>0.95</td>\n",
       "      <td>0.187005</td>\n",
       "      <td>0.025998</td>\n",
       "      <td>False</td>\n",
       "      <td>False</td>\n",
       "      <td>False</td>\n",
       "      <td>0.000181</td>\n",
       "    </tr>\n",
       "    <tr>\n",
       "      <th>3</th>\n",
       "      <td>kXiYSI7H2b0</td>\n",
       "      <td>Petrol Vs Liquid Nitrogen | Freezing Experimen...</td>\n",
       "      <td>2022-08-23</td>\n",
       "      <td>tech</td>\n",
       "      <td>0.000229</td>\n",
       "      <td>0.004352</td>\n",
       "      <td>0.001947</td>\n",
       "      <td>Unstoppable experiments with liquid nitrogen 🎉...</td>\n",
       "      <td>0.003040</td>\n",
       "      <td>0.80</td>\n",
       "      <td>0.355006</td>\n",
       "      <td>0.018938</td>\n",
       "      <td>False</td>\n",
       "      <td>False</td>\n",
       "      <td>False</td>\n",
       "      <td>0.000181</td>\n",
       "    </tr>\n",
       "    <tr>\n",
       "      <th>4</th>\n",
       "      <td>ErMwWXQxHp0</td>\n",
       "      <td>Best Back to School Tech 2022!</td>\n",
       "      <td>2022-08-08</td>\n",
       "      <td>tech</td>\n",
       "      <td>0.000460</td>\n",
       "      <td>0.005869</td>\n",
       "      <td>0.007036</td>\n",
       "      <td>Guys, a quick note that you do NOT need all th...</td>\n",
       "      <td>0.015645</td>\n",
       "      <td>0.80</td>\n",
       "      <td>0.238235</td>\n",
       "      <td>0.033711</td>\n",
       "      <td>False</td>\n",
       "      <td>False</td>\n",
       "      <td>False</td>\n",
       "      <td>0.002900</td>\n",
       "    </tr>\n",
       "  </tbody>\n",
       "</table>\n",
       "</div>"
      ],
      "text/plain": [
       "            id                                              title        date  \\\n",
       "0  wAZZ-UWGVHI  Apple Pay Is Killing the Physical Wallet After...  2022-08-23   \n",
       "1  b3x28s61q3c                    The most EXPENSIVE thing I own.  2022-08-24   \n",
       "2  4mgePWWCAmA                 My New House Gaming Setup is SICK!  2022-08-23   \n",
       "3  kXiYSI7H2b0  Petrol Vs Liquid Nitrogen | Freezing Experimen...  2022-08-23   \n",
       "4  ErMwWXQxHp0                     Best Back to School Tech 2022!  2022-08-08   \n",
       "\n",
       "  keyword     views     likes  comments  \\\n",
       "0    tech  0.000034  0.000207  0.000918   \n",
       "1    tech  0.000436  0.004669  0.005877   \n",
       "2    tech  0.000388  0.003881  0.004556   \n",
       "3    tech  0.000229  0.004352  0.001947   \n",
       "4    tech  0.000460  0.005869  0.007036   \n",
       "\n",
       "                                             comment  mean_comment_likes  \\\n",
       "0  Let's not forget that Apple Pay in 2014 requir...            0.000225   \n",
       "1  Wow, you really went to town on the PSU test r...            0.003439   \n",
       "2  Linus!!! Just turn the key lights  180 and bou...            0.003600   \n",
       "3  Unstoppable experiments with liquid nitrogen 🎉...            0.003040   \n",
       "4  Guys, a quick note that you do NOT need all th...            0.015645   \n",
       "\n",
       "   mean_comment_sentiment  likes_per_view  comments_per_view  \\\n",
       "0                    0.60        0.115269           0.059800   \n",
       "1                    0.90        0.200102           0.029772   \n",
       "2                    0.95        0.187005           0.025998   \n",
       "3                    0.80        0.355006           0.018938   \n",
       "4                    0.80        0.238235           0.033711   \n",
       "\n",
       "   views_above_mean  likes_above_mean  comments_above_mean  days_old  \n",
       "0             False             False                False  0.000181  \n",
       "1             False             False                False  0.000000  \n",
       "2             False             False                False  0.000181  \n",
       "3             False             False                False  0.000181  \n",
       "4             False             False                False  0.002900  "
      ]
     },
     "execution_count": 26,
     "metadata": {},
     "output_type": "execute_result"
    }
   ],
   "source": [
    "norm_vid = pd.read_csv('./norm-videos-with-comments-aggr.csv',  index_col=0)\n",
    "norm_vid.head()"
   ]
  },
  {
   "cell_type": "markdown",
   "id": "c5a04764",
   "metadata": {},
   "source": [
    "## Predicting Total Views from Rate of Likes-per-View and Comments-per-View"
   ]
  },
  {
   "cell_type": "markdown",
   "id": "65d8511d",
   "metadata": {},
   "source": [
    "# Achieve better fit"
   ]
  },
  {
   "cell_type": "markdown",
   "id": "debaaec2",
   "metadata": {},
   "source": [
    "### 1) Linear Regression"
   ]
  },
  {
   "cell_type": "code",
   "execution_count": 18,
   "id": "ea528ff7",
   "metadata": {},
   "outputs": [],
   "source": [
    "y = vid[['views']].values\n",
    "X = vid[['likes_per_view', 'comments_per_view']].values\n",
    "X_train, X_test, y_train, y_test = train_test_split(X, y, test_size=.3, random_state=3)"
   ]
  },
  {
   "cell_type": "code",
   "execution_count": 19,
   "id": "45c9a9c6",
   "metadata": {
    "scrolled": true
   },
   "outputs": [
    {
     "data": {
      "text/plain": [
       "LinearRegression()"
      ]
     },
     "execution_count": 19,
     "metadata": {},
     "output_type": "execute_result"
    }
   ],
   "source": [
    "lin = linear_model.LinearRegression()\n",
    "lin.fit(X_train, y_train)"
   ]
  },
  {
   "cell_type": "code",
   "execution_count": 20,
   "id": "0da0bf64",
   "metadata": {
    "scrolled": true
   },
   "outputs": [
    {
     "data": {
      "text/plain": [
       "(array([[-2.42979393e+08, -3.97701147e+08]]), array([20472482.18037041]))"
      ]
     },
     "execution_count": 20,
     "metadata": {},
     "output_type": "execute_result"
    }
   ],
   "source": [
    "lin.coef_, lin.intercept_"
   ]
  },
  {
   "cell_type": "code",
   "execution_count": 22,
   "id": "02aa7a75",
   "metadata": {
    "scrolled": false
   },
   "outputs": [
    {
     "data": {
      "text/plain": [
       "array([[14022089.7375879]])"
      ]
     },
     "execution_count": 22,
     "metadata": {},
     "output_type": "execute_result"
    }
   ],
   "source": [
    "lin.predict([[.02, .004]])"
   ]
  },
  {
   "cell_type": "code",
   "execution_count": 23,
   "id": "33571941",
   "metadata": {
    "scrolled": true
   },
   "outputs": [
    {
     "data": {
      "text/plain": [
       "0.0037810228731782747"
      ]
     },
     "execution_count": 23,
     "metadata": {},
     "output_type": "execute_result"
    }
   ],
   "source": [
    "lin.score(X_test, y_test)"
   ]
  },
  {
   "cell_type": "markdown",
   "id": "97877d6e",
   "metadata": {},
   "source": [
    "### 2) Decision Tree"
   ]
  },
  {
   "cell_type": "code",
   "execution_count": 9,
   "id": "5b903e71",
   "metadata": {
    "scrolled": false
   },
   "outputs": [],
   "source": [
    "tre = tree.DecisionTreeClassifier()"
   ]
  },
  {
   "cell_type": "code",
   "execution_count": 10,
   "id": "9c2350fb",
   "metadata": {},
   "outputs": [
    {
     "data": {
      "text/plain": [
       "DecisionTreeClassifier()"
      ]
     },
     "execution_count": 10,
     "metadata": {},
     "output_type": "execute_result"
    }
   ],
   "source": [
    "tre.fit(X_train, y_train)"
   ]
  },
  {
   "cell_type": "code",
   "execution_count": 11,
   "id": "80570412",
   "metadata": {
    "scrolled": true
   },
   "outputs": [
    {
     "data": {
      "text/plain": [
       "array([9401.])"
      ]
     },
     "execution_count": 11,
     "metadata": {},
     "output_type": "execute_result"
    }
   ],
   "source": [
    "tre.predict([[.02, .004, 1]])"
   ]
  },
  {
   "cell_type": "code",
   "execution_count": 12,
   "id": "51228618",
   "metadata": {
    "scrolled": true
   },
   "outputs": [
    {
     "data": {
      "text/plain": [
       "array([9401.])"
      ]
     },
     "execution_count": 12,
     "metadata": {},
     "output_type": "execute_result"
    }
   ],
   "source": [
    "tre.predict([[.02, .004, 1]])"
   ]
  },
  {
   "cell_type": "code",
   "execution_count": 18,
   "id": "de9ab17d",
   "metadata": {},
   "outputs": [
    {
     "data": {
      "text/plain": [
       "1.0"
      ]
     },
     "execution_count": 18,
     "metadata": {},
     "output_type": "execute_result"
    }
   ],
   "source": [
    "tre.score(X_train, y_train)"
   ]
  },
  {
   "cell_type": "code",
   "execution_count": 13,
   "id": "64214b40",
   "metadata": {
    "scrolled": true
   },
   "outputs": [
    {
     "data": {
      "text/plain": [
       "0.0035460992907801418"
      ]
     },
     "execution_count": 13,
     "metadata": {},
     "output_type": "execute_result"
    }
   ],
   "source": [
    "tre.score(X_test, y_test)"
   ]
  },
  {
   "cell_type": "markdown",
   "id": "292f4853",
   "metadata": {},
   "source": [
    "## Other Predictions"
   ]
  },
  {
   "cell_type": "markdown",
   "id": "5cdb0a02",
   "metadata": {},
   "source": [
    "### 1) Logistic Regression"
   ]
  },
  {
   "cell_type": "code",
   "execution_count": 14,
   "id": "2643d642",
   "metadata": {
    "scrolled": true
   },
   "outputs": [
    {
     "data": {
      "text/plain": [
       "LogisticRegression()"
      ]
     },
     "execution_count": 14,
     "metadata": {},
     "output_type": "execute_result"
    }
   ],
   "source": [
    "log = linear_model.LogisticRegression()\n",
    "\n",
    "bool_tech = np.array(vid.keyword == 'tech')\n",
    "\n",
    "log.fit(vid[['views', 'likes', 'comments', 'com_likes', 'com_sentiment']], bool_tech)"
   ]
  },
  {
   "cell_type": "code",
   "execution_count": 15,
   "id": "a684c714",
   "metadata": {},
   "outputs": [],
   "source": [
    "pred_tech = log.predict(vid[['views', 'likes', 'comments', 'com_likes', 'com_sentiment']])"
   ]
  },
  {
   "cell_type": "code",
   "execution_count": 16,
   "id": "3cdd8cbc",
   "metadata": {},
   "outputs": [
    {
     "data": {
      "text/plain": [
       "0.9728579031399681"
      ]
     },
     "execution_count": 16,
     "metadata": {},
     "output_type": "execute_result"
    }
   ],
   "source": [
    "log.score(vid[['views', 'likes', 'comments', 'com_likes', 'com_sentiment']], tech)"
   ]
  },
  {
   "cell_type": "code",
   "execution_count": 17,
   "id": "e715d59d",
   "metadata": {
    "scrolled": false
   },
   "outputs": [
    {
     "ename": "NameError",
     "evalue": "name 'bool_tech' is not defined",
     "output_type": "error",
     "traceback": [
      "\u001b[0;31m---------------------------------------------------------------------------\u001b[0m",
      "\u001b[0;31mNameError\u001b[0m                                 Traceback (most recent call last)",
      "Input \u001b[0;32mIn [17]\u001b[0m, in \u001b[0;36m<module>\u001b[0;34m\u001b[0m\n\u001b[0;32m----> 1\u001b[0m metrics\u001b[38;5;241m.\u001b[39mprecision_recall_fscore_support(\u001b[43mbool_tech\u001b[49m, pred_tech)\n",
      "\u001b[0;31mNameError\u001b[0m: name 'bool_tech' is not defined"
     ]
    }
   ],
   "source": [
    "metrics.precision_recall_fscore_support(bool_tech, pred_tech)"
   ]
  }
 ],
 "metadata": {
  "kernelspec": {
   "display_name": "Python 3 (ipykernel)",
   "language": "python",
   "name": "python3"
  },
  "language_info": {
   "codemirror_mode": {
    "name": "ipython",
    "version": 3
   },
   "file_extension": ".py",
   "mimetype": "text/x-python",
   "name": "python",
   "nbconvert_exporter": "python",
   "pygments_lexer": "ipython3",
   "version": "3.9.1"
  }
 },
 "nbformat": 4,
 "nbformat_minor": 5
}
